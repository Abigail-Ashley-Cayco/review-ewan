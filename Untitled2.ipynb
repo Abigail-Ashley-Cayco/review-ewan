{
  "nbformat": 4,
  "nbformat_minor": 0,
  "metadata": {
    "colab": {
      "provenance": [],
      "authorship_tag": "ABX9TyNM8N2dneHyX3UdlrgSXPmr",
      "include_colab_link": true
    },
    "kernelspec": {
      "name": "python3",
      "display_name": "Python 3"
    },
    "language_info": {
      "name": "python"
    }
  },
  "cells": [
    {
      "cell_type": "markdown",
      "metadata": {
        "id": "view-in-github",
        "colab_type": "text"
      },
      "source": [
        "<a href=\"https://colab.research.google.com/github/Abigail-Ashley-Cayco/review-ewan/blob/main/Untitled2.ipynb\" target=\"_parent\"><img src=\"https://colab.research.google.com/assets/colab-badge.svg\" alt=\"Open In Colab\"/></a>"
      ]
    },
    {
      "cell_type": "code",
      "source": [
        "class Node:\n",
        "  def __init__(self,data):\n",
        "    self.data = data\n",
        "    self.ref = None\n",
        "class LinkedList:\n",
        "  def __init__(self):\n",
        "    self.head = None\n"
      ],
      "metadata": {
        "id": "5Ew-BaJxCiHl"
      },
      "execution_count": null,
      "outputs": []
    },
    {
      "cell_type": "code",
      "execution_count": 33,
      "metadata": {
        "colab": {
          "base_uri": "https://localhost:8080/"
        },
        "id": "ei-lP_Ns_nom",
        "outputId": "9a8ccaa1-e60f-49fa-92d4-43e4500d2cf0"
      },
      "outputs": [
        {
          "output_type": "stream",
          "name": "stdout",
          "text": [
            "Enter Full Name: Sheesh ang lupet hehe\n",
            "Sheesh ang lupet hehe\n",
            "Reversed Order: eheh tepul gna hseehS"
          ]
        }
      ],
      "source": [
        "#1 Create a python or C++ program that appends each character of your full name and displays each character in reverse order\n",
        "class Node:\n",
        "    def __init__(self,data):\n",
        "        self.data = data    # = to data passed in\n",
        "        self.next = None    # set to null # pointer to next node\n",
        "        self.prev = None    # set to null # pointer to previous node\n",
        "\n",
        "class linkedList:\n",
        "    def __init__(self):\n",
        "        self.head = None    # set to null\n",
        "\n",
        "    def printList(self):    # fuction to print the linked list\n",
        "        temp = self.head    # set current/temp node to the head, sets the start at head\n",
        "        while temp:     # while temp != null/none (while current node is not null/None)\n",
        "            print(temp.data, end=\"\")    # print the value/data of current Node\n",
        "                                        # end=\"\" -- end on white/blank space, not a new line\n",
        "            temp = temp.next    # point to next node of the current node\n",
        "\n",
        "            # To display in reverse\n",
        "            if temp.next is None:   # if next node is null # checks if it is the last node\n",
        "              print(temp.data)      # print the value/data of current Node\n",
        "              print(\"Reversed Order: \", end=\"\")\n",
        "\n",
        "              while(temp):      # while temp != null/none (while current node is not null/None)\n",
        "                print(temp.data, end=\"\")    # print the value/data of current Node\n",
        "                temp = temp.prev    # point to previous node of the current node\n",
        "\n",
        "    def append(self, data):     # function to add node at the end\n",
        "        if self.head is None:   # check if list has no element, new node is created as head\n",
        "            new_node = Node(data)   # creates new node to assign the data/value\n",
        "            new_node.prev = None    # the node created is a head, must point to Null/None\n",
        "            self.head = new_node    # sets new node as the head\n",
        "\n",
        "        else:   # if not an empty list, there is a head node\n",
        "            new_node = Node(data)       # creates a new node to assign the value\n",
        "            temp = self.head    # set head as the current node\n",
        "            while temp.next:    # loops while the next node is not None/Null # until before last node\n",
        "                temp = temp.next    # update the current/temporary pointer to the next node\n",
        "            # loops exit as current node is the last node\n",
        "            temp.next = new_node    # next node of the last node is the new node\n",
        "            new_node.prev = temp    # appended node points back to the last node\n",
        "            new_node.next = None    # end of list or the tail must point to None/Null\n",
        "\n",
        "FullName = str(input(\"Enter Full Name: \"))  # Input data\n",
        "llist = linkedList()    # class linkedList() is assigned to variable llist\n",
        "\n",
        "for character in FullName:  # loops on the characters of the data\n",
        "    llist.append(character)     # call append function, pass character, data = character\n",
        "\n",
        "llist.printList()   # call printList function"
      ]
    },
    {
      "cell_type": "code",
      "source": [
        "class Node:\n",
        "  def __init__(self,data):\n",
        "    self.data = data\n",
        "    self.next = None\n",
        "class LinkedList:\n",
        "  def __init__(self):\n",
        "    self.head = None\n",
        "  def insert(self, newNode):\n",
        "    if self.head is None:\n",
        "      self.head = newNode\n",
        "    else:\n",
        "      lastNode = self.head\n",
        "      while True:\n",
        "        if lastNode.next is None:\n",
        "          break\n",
        "        lastNode = lastNode.next\n",
        "      lastNode.next = newNode\n",
        "  def printList(self):\n",
        "    currentNode = self.head\n",
        "    while True:\n",
        "      if currentNode is None:\n",
        "        break\n",
        "      print(currentNode.data)\n",
        "      currentNode = currentNode.next\n",
        "firstNode = Node(\"jusmeyo\")\n",
        "llinkedlist = LinkedList()\n",
        "llinkedlist.insert(firstNode)\n",
        "secondNode = Node(\"marimars\")\n",
        "llinkedlist.insert(secondNode)\n",
        "thirdNode = Node(\"hikhok\")\n",
        "llinkedlist.insert(thirdNode)\n",
        "fourthNode = Node(\"bengbeng\")\n",
        "llinkedlist.insert(fourthNode)\n",
        "fifthNode = Node(\"Tignan natin hanggang saan aabot\")\n",
        "llinkedlist.insert(fifthNode)\n",
        "sixthNode = Node(\"Sabi ko nga hanggang dulo\")\n",
        "llinkedlist.insert(sixthNode)\n",
        "llinkedlist.printList()"
      ],
      "metadata": {
        "colab": {
          "base_uri": "https://localhost:8080/"
        },
        "id": "ao7K8JkwDyb8",
        "outputId": "4ec79b20-2d99-4b97-ff4b-1b3d305bdc7a"
      },
      "execution_count": 32,
      "outputs": [
        {
          "output_type": "stream",
          "name": "stdout",
          "text": [
            "jusmeyo\n",
            "marimars\n",
            "hikhok\n",
            "bengbeng\n",
            "Tignan natin hanggang saan aabot\n",
            "Sabi ko nga hanggang dulo\n"
          ]
        }
      ]
    },
    {
      "cell_type": "code",
      "source": [
        "class Node:\n",
        "    def __init__(self, value):\n",
        "        self.value = value\n",
        "        self.next = None\n",
        "\n",
        "class LinkedList:\n",
        "    def __init__(self):\n",
        "        self.head = None\n",
        "\n",
        "    def insert(self, value):\n",
        "        new_node = Node(value)\n",
        "        if self.head is None:\n",
        "            self.head = new_node\n",
        "        else:\n",
        "            current = self.head\n",
        "            if value < current.value:\n",
        "                new_node.next = current\n",
        "                self.head = new_node\n",
        "            else:\n",
        "                while current.next is not None and current.next.value < value:\n",
        "                    current = current.next\n",
        "                new_node.next = current.next\n",
        "                current.next = new_node\n",
        "\n",
        "    def print(self):\n",
        "        current = self.head\n",
        "        while current:\n",
        "            print(current.value)\n",
        "            current = current.next\n",
        "\n",
        "# Example usage with the list [12, 4, 7, 3, 5, 78, 56]:\n",
        "numbers = [12, 4, 7, 3, 5, 78, 56]\n",
        "linked_list = LinkedList()\n",
        "\n",
        "for number in numbers:\n",
        "    linked_list.insert(number)\n",
        "\n",
        "linked_list.print()"
      ],
      "metadata": {
        "colab": {
          "base_uri": "https://localhost:8080/"
        },
        "id": "paWwq5lmyCVs",
        "outputId": "44f99686-d28e-4642-945a-31093fdb5e1b"
      },
      "execution_count": null,
      "outputs": [
        {
          "output_type": "stream",
          "name": "stdout",
          "text": [
            "3\n",
            "4\n",
            "5\n",
            "7\n",
            "12\n",
            "56\n",
            "78\n"
          ]
        }
      ]
    },
    {
      "cell_type": "code",
      "source": [
        "class Node:\n",
        "    def __init__(self, data):\n",
        "        self.data = data\n",
        "        self.next = None\n",
        "\n",
        "class LinkedList:\n",
        "    def __init__(self):\n",
        "        self.head = None\n",
        "\n",
        "    def insert(self, newNode):\n",
        "        if self.head is None:\n",
        "            self.head = newNode\n",
        "        else:\n",
        "            lastNode = self.head\n",
        "            while lastNode.next is not None:\n",
        "                lastNode = lastNode.next\n",
        "            lastNode.next = newNode\n",
        "\n",
        "    def print(self):\n",
        "        currentNode = self.head\n",
        "        while currentNode is not None:\n",
        "            print(currentNode.data)\n",
        "            currentNode = currentNode.next\n",
        "\n",
        "Node1 = Node(\"haha\")\n",
        "llinkedlist = LinkedList()\n",
        "llinkedlist.insert(Node1)\n",
        "Node2 = Node(\"ko\")\n",
        "llinkedlist.insert(Node2)\n",
        "Node3 = Node(\"Abigail\")\n",
        "llinkedlist.insert(Node3)\n",
        "Node4 = Node(\"ewan\")\n",
        "llinkedlist.insert(Node4)\n",
        "Node5 = Node(\"Wala na ko maisip\")\n",
        "llinkedlist.insert(Node5)\n",
        "Node6 = Node(\"Last na Node na to hehe\")\n",
        "llinkedlist.insert(Node6)\n",
        "llinkedlist.print()"
      ],
      "metadata": {
        "colab": {
          "base_uri": "https://localhost:8080/"
        },
        "id": "TNHPwTfisudR",
        "outputId": "4a29c25d-8243-4a01-cf0a-11e3bfd672f4"
      },
      "execution_count": 31,
      "outputs": [
        {
          "output_type": "stream",
          "name": "stdout",
          "text": [
            "haha\n",
            "ko\n",
            "Abigail\n",
            "ewan\n",
            "Wala na ko maisip\n",
            "Last na Node na to hehe\n"
          ]
        }
      ]
    },
    {
      "cell_type": "code",
      "source": [
        "class Node:\n",
        "    def __init__(self, value):\n",
        "        self.value = value\n",
        "        self.next = None\n",
        "\n",
        "class LinkedList:\n",
        "    def __init__(self):\n",
        "        self.head = None\n",
        "\n",
        "    def insert(self, value):\n",
        "        new_node = Node(value)\n",
        "        if self.head is None:\n",
        "            self.head = new_node\n",
        "        else:\n",
        "            current = self.head\n",
        "            if value > current.value:\n",
        "                new_node.next = current\n",
        "                self.head = new_node\n",
        "            else:\n",
        "                while current.next is not None and current.next.value > value:\n",
        "                    current = current.next\n",
        "                new_node.next = current.next\n",
        "                current.next = new_node\n",
        "\n",
        "    def print(self):\n",
        "        current = self.head\n",
        "        while current:\n",
        "            print(current.value)\n",
        "            current = current.next\n",
        "\n",
        "# Numbers to insert into the linked list\n",
        "numbers = [12, 4, 7, 3, 5, 78, 56]\n",
        "\n",
        "# Create a linked list and insert the numbers\n",
        "linked_list = LinkedList()\n",
        "for number in numbers:\n",
        "    linked_list.insert(number)\n",
        "\n",
        "# Print the numbers in descending order\n",
        "linked_list.print()"
      ],
      "metadata": {
        "colab": {
          "base_uri": "https://localhost:8080/"
        },
        "id": "ig1iHmu-ydaO",
        "outputId": "1cf05ef8-0dc5-458e-8424-7ea497322792"
      },
      "execution_count": null,
      "outputs": [
        {
          "output_type": "stream",
          "name": "stdout",
          "text": [
            "78\n",
            "56\n",
            "12\n",
            "7\n",
            "5\n",
            "4\n",
            "3\n"
          ]
        }
      ]
    }
  ]
}